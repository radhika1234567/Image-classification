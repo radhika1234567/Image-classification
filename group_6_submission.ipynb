{
  "nbformat": 4,
  "nbformat_minor": 0,
  "metadata": {
    "colab": {
      "name": "group_6_submission.ipynb",
      "provenance": [],
      "collapsed_sections": []
    },
    "kernelspec": {
      "name": "python3",
      "display_name": "Python 3"
    },
    "accelerator": "GPU",
    "widgets": {
      "application/vnd.jupyter.widget-state+json": {
        "cae270a17d134f3e9aca1d8f8e30a14e": {
          "model_module": "@jupyter-widgets/controls",
          "model_name": "HBoxModel",
          "state": {
            "_view_name": "HBoxView",
            "_dom_classes": [],
            "_model_name": "HBoxModel",
            "_view_module": "@jupyter-widgets/controls",
            "_model_module_version": "1.5.0",
            "_view_count": null,
            "_view_module_version": "1.5.0",
            "box_style": "",
            "layout": "IPY_MODEL_c13bcf857e2543219fc7ab24b1f6146f",
            "_model_module": "@jupyter-widgets/controls",
            "children": [
              "IPY_MODEL_147cb64a79b040da803dc0f9fc1056f0",
              "IPY_MODEL_8a6ca6866e1c4958846af7798fa605e1"
            ]
          }
        },
        "c13bcf857e2543219fc7ab24b1f6146f": {
          "model_module": "@jupyter-widgets/base",
          "model_name": "LayoutModel",
          "state": {
            "_view_name": "LayoutView",
            "grid_template_rows": null,
            "right": null,
            "justify_content": null,
            "_view_module": "@jupyter-widgets/base",
            "overflow": null,
            "_model_module_version": "1.2.0",
            "_view_count": null,
            "flex_flow": null,
            "width": null,
            "min_width": null,
            "border": null,
            "align_items": null,
            "bottom": null,
            "_model_module": "@jupyter-widgets/base",
            "top": null,
            "grid_column": null,
            "overflow_y": null,
            "overflow_x": null,
            "grid_auto_flow": null,
            "grid_area": null,
            "grid_template_columns": null,
            "flex": null,
            "_model_name": "LayoutModel",
            "justify_items": null,
            "grid_row": null,
            "max_height": null,
            "align_content": null,
            "visibility": null,
            "align_self": null,
            "height": null,
            "min_height": null,
            "padding": null,
            "grid_auto_rows": null,
            "grid_gap": null,
            "max_width": null,
            "order": null,
            "_view_module_version": "1.2.0",
            "grid_template_areas": null,
            "object_position": null,
            "object_fit": null,
            "grid_auto_columns": null,
            "margin": null,
            "display": null,
            "left": null
          }
        },
        "147cb64a79b040da803dc0f9fc1056f0": {
          "model_module": "@jupyter-widgets/controls",
          "model_name": "FloatProgressModel",
          "state": {
            "_view_name": "ProgressView",
            "style": "IPY_MODEL_1594cf0aab2f40a79f3e07191ed9562b",
            "_dom_classes": [],
            "description": "100%",
            "_model_name": "FloatProgressModel",
            "bar_style": "success",
            "max": 102502400,
            "_view_module": "@jupyter-widgets/controls",
            "_model_module_version": "1.5.0",
            "value": 102502400,
            "_view_count": null,
            "_view_module_version": "1.5.0",
            "orientation": "horizontal",
            "min": 0,
            "description_tooltip": null,
            "_model_module": "@jupyter-widgets/controls",
            "layout": "IPY_MODEL_bd937e75c7f943bdb7439421991e12e0"
          }
        },
        "8a6ca6866e1c4958846af7798fa605e1": {
          "model_module": "@jupyter-widgets/controls",
          "model_name": "HTMLModel",
          "state": {
            "_view_name": "HTMLView",
            "style": "IPY_MODEL_55221f6144064596b4402ff981c3f79d",
            "_dom_classes": [],
            "description": "",
            "_model_name": "HTMLModel",
            "placeholder": "​",
            "_view_module": "@jupyter-widgets/controls",
            "_model_module_version": "1.5.0",
            "value": " 97.8M/97.8M [00:09&lt;00:00, 10.8MB/s]",
            "_view_count": null,
            "_view_module_version": "1.5.0",
            "description_tooltip": null,
            "_model_module": "@jupyter-widgets/controls",
            "layout": "IPY_MODEL_c66ed7ae198e48248b1c35a381baa51a"
          }
        },
        "1594cf0aab2f40a79f3e07191ed9562b": {
          "model_module": "@jupyter-widgets/controls",
          "model_name": "ProgressStyleModel",
          "state": {
            "_view_name": "StyleView",
            "_model_name": "ProgressStyleModel",
            "description_width": "initial",
            "_view_module": "@jupyter-widgets/base",
            "_model_module_version": "1.5.0",
            "_view_count": null,
            "_view_module_version": "1.2.0",
            "bar_color": null,
            "_model_module": "@jupyter-widgets/controls"
          }
        },
        "bd937e75c7f943bdb7439421991e12e0": {
          "model_module": "@jupyter-widgets/base",
          "model_name": "LayoutModel",
          "state": {
            "_view_name": "LayoutView",
            "grid_template_rows": null,
            "right": null,
            "justify_content": null,
            "_view_module": "@jupyter-widgets/base",
            "overflow": null,
            "_model_module_version": "1.2.0",
            "_view_count": null,
            "flex_flow": null,
            "width": null,
            "min_width": null,
            "border": null,
            "align_items": null,
            "bottom": null,
            "_model_module": "@jupyter-widgets/base",
            "top": null,
            "grid_column": null,
            "overflow_y": null,
            "overflow_x": null,
            "grid_auto_flow": null,
            "grid_area": null,
            "grid_template_columns": null,
            "flex": null,
            "_model_name": "LayoutModel",
            "justify_items": null,
            "grid_row": null,
            "max_height": null,
            "align_content": null,
            "visibility": null,
            "align_self": null,
            "height": null,
            "min_height": null,
            "padding": null,
            "grid_auto_rows": null,
            "grid_gap": null,
            "max_width": null,
            "order": null,
            "_view_module_version": "1.2.0",
            "grid_template_areas": null,
            "object_position": null,
            "object_fit": null,
            "grid_auto_columns": null,
            "margin": null,
            "display": null,
            "left": null
          }
        },
        "55221f6144064596b4402ff981c3f79d": {
          "model_module": "@jupyter-widgets/controls",
          "model_name": "DescriptionStyleModel",
          "state": {
            "_view_name": "StyleView",
            "_model_name": "DescriptionStyleModel",
            "description_width": "",
            "_view_module": "@jupyter-widgets/base",
            "_model_module_version": "1.5.0",
            "_view_count": null,
            "_view_module_version": "1.2.0",
            "_model_module": "@jupyter-widgets/controls"
          }
        },
        "c66ed7ae198e48248b1c35a381baa51a": {
          "model_module": "@jupyter-widgets/base",
          "model_name": "LayoutModel",
          "state": {
            "_view_name": "LayoutView",
            "grid_template_rows": null,
            "right": null,
            "justify_content": null,
            "_view_module": "@jupyter-widgets/base",
            "overflow": null,
            "_model_module_version": "1.2.0",
            "_view_count": null,
            "flex_flow": null,
            "width": null,
            "min_width": null,
            "border": null,
            "align_items": null,
            "bottom": null,
            "_model_module": "@jupyter-widgets/base",
            "top": null,
            "grid_column": null,
            "overflow_y": null,
            "overflow_x": null,
            "grid_auto_flow": null,
            "grid_area": null,
            "grid_template_columns": null,
            "flex": null,
            "_model_name": "LayoutModel",
            "justify_items": null,
            "grid_row": null,
            "max_height": null,
            "align_content": null,
            "visibility": null,
            "align_self": null,
            "height": null,
            "min_height": null,
            "padding": null,
            "grid_auto_rows": null,
            "grid_gap": null,
            "max_width": null,
            "order": null,
            "_view_module_version": "1.2.0",
            "grid_template_areas": null,
            "object_position": null,
            "object_fit": null,
            "grid_auto_columns": null,
            "margin": null,
            "display": null,
            "left": null
          }
        }
      }
    }
  },
  "cells": [
    {
      "cell_type": "code",
      "metadata": {
        "id": "PYdfvXLhmaI2"
      },
      "source": [
        "import os\r\n",
        "import numpy as np\r\n",
        "import torch\r\n",
        "import torch.nn as nn\r\n",
        "import torch.nn.functional as F\r\n",
        "from torch.autograd import Variable\r\n",
        "import torch.utils.data as data\r\n",
        "import torchvision\r\n",
        "from torchvision import transforms\r\n",
        "from pathlib import Path\r\n",
        "from torch.utils.data.sampler import SubsetRandomSampler\r\n",
        "from torchvision import utils\r\n",
        "import matplotlib.pyplot as plt\r\n",
        "import numpy as np"
      ],
      "execution_count": 5,
      "outputs": []
    },
    {
      "cell_type": "code",
      "metadata": {
        "colab": {
          "base_uri": "https://localhost:8080/",
          "height": 0
        },
        "id": "_VbhwbWgnf79",
        "outputId": "d29337b7-bd87-4bb6-add4-2e5e9f94b7dd"
      },
      "source": [
        "from google.colab import drive\n",
        "drive.mount('/content/drive')"
      ],
      "execution_count": 6,
      "outputs": [
        {
          "output_type": "stream",
          "text": [
            "Mounted at /content/drive\n"
          ],
          "name": "stdout"
        }
      ]
    },
    {
      "cell_type": "code",
      "metadata": {
        "id": "FpS64Ay-miQ6"
      },
      "source": [
        "folder = Path('/content/drive/MyDrive/Project')\r\n",
        "train_path = Path('/content/drive/MyDrive/Project/train')\r\n",
        "test_path = Path('/content/drive/MyDrive/Project/test_data')"
      ],
      "execution_count": 7,
      "outputs": []
    },
    {
      "cell_type": "code",
      "metadata": {
        "id": "EYwYb7gsmit6"
      },
      "source": [
        "from IPython.core.interactiveshell import InteractiveShell\r\n",
        "import seaborn as sns\r\n",
        "# PyTorch\r\n",
        "from torchvision import transforms, datasets, models\r\n",
        "import torch\r\n",
        "from torch import optim, cuda\r\n",
        "from torch.utils.data import DataLoader, sampler\r\n",
        "import torch.nn as nn\r\n",
        "\r\n",
        "import warnings\r\n",
        "warnings.filterwarnings('ignore', category=FutureWarning)\r\n",
        "\r\n",
        "# Data science tools\r\n",
        "import numpy as np\r\n",
        "import pandas as pd\r\n",
        "import os\r\n",
        "\r\n",
        "# Image manipulations\r\n",
        "from PIL import Image\r\n",
        "# Useful for examining network\r\n",
        "from torchsummary import summary\r\n",
        "# Timing utility\r\n",
        "from timeit import default_timer as timer\r\n",
        "\r\n",
        "# Visualizations\r\n",
        "import matplotlib.pyplot as plt\r\n",
        "%matplotlib inline\r\n",
        "plt.rcParams['font.size'] = 14\r\n",
        "\r\n",
        "# Printing out all outputs\r\n",
        "InteractiveShell.ast_node_interactivity = 'all'\r\n",
        "\r\n",
        "\r\n",
        "\r\n",
        "import os\r\n",
        "import numpy as np\r\n",
        "import torch\r\n",
        "import torch.nn as nn\r\n",
        "import torch.nn.functional as F\r\n",
        "from torch.autograd import Variable\r\n",
        "import torch.utils.data as data\r\n",
        "import torchvision\r\n",
        "from torchvision import transforms"
      ],
      "execution_count": 8,
      "outputs": []
    },
    {
      "cell_type": "code",
      "metadata": {
        "id": "9oqHMuNJmpVQ"
      },
      "source": [
        "# define transformation\r\n",
        "data_transformer = transforms.Compose([transforms.ToTensor()])"
      ],
      "execution_count": 9,
      "outputs": []
    },
    {
      "cell_type": "code",
      "metadata": {
        "id": "HACo5-ksoRAn"
      },
      "source": [
        "mean=[0.48605457, 0.45592883, 0.39390326]\r\n",
        "std=[0.22131737,0.2155561,0.2173404]"
      ],
      "execution_count": 10,
      "outputs": []
    },
    {
      "cell_type": "code",
      "metadata": {
        "id": "gfBZG3PwnME_"
      },
      "source": [
        "train_transformer = transforms.Compose([transforms.Resize((299,299)),\r\n",
        "    transforms.RandomRotation(25),\r\n",
        "    transforms.RandomHorizontalFlip(p=0.5),  \r\n",
        "    transforms.RandomVerticalFlip(p=0.5),  \r\n",
        "    transforms.ToTensor(),\r\n",
        "    transforms.Lambda(lambda img: torch.cat((img, img, img), axis=0) if img.shape[0] == 1 else img),\r\n",
        "    transforms.Normalize(mean, std)])\r\n",
        "                 \r\n",
        "\r\n",
        "test0_transformer = transforms.Compose([transforms.Resize((299,299)),\r\n",
        "    transforms.ToTensor(),\r\n",
        "    transforms.Lambda(lambda img: torch.cat((img, img, img), axis=0) if img.shape[0] == 1 else img),\r\n",
        "    transforms.Normalize(mean, std),\r\n",
        "    ])"
      ],
      "execution_count": 11,
      "outputs": []
    },
    {
      "cell_type": "code",
      "metadata": {
        "id": "UpTIgj_bmreV"
      },
      "source": [
        "train_data = torchvision.datasets.ImageFolder(root=train_path,transform=train_transformer)"
      ],
      "execution_count": 12,
      "outputs": []
    },
    {
      "cell_type": "code",
      "metadata": {
        "colab": {
          "base_uri": "https://localhost:8080/",
          "height": 0
        },
        "id": "TsmVNp9emt76",
        "outputId": "8b369680-ad8a-497a-a103-887d1630cf4e"
      },
      "source": [
        "len(train_data)"
      ],
      "execution_count": 10,
      "outputs": [
        {
          "output_type": "execute_result",
          "data": {
            "text/plain": [
              "9025"
            ]
          },
          "metadata": {
            "tags": []
          },
          "execution_count": 10
        }
      ]
    },
    {
      "cell_type": "code",
      "metadata": {
        "id": "4XS6fR_OmyS_"
      },
      "source": [
        "from torch.utils.data import Dataset"
      ],
      "execution_count": 13,
      "outputs": []
    },
    {
      "cell_type": "code",
      "metadata": {
        "id": "qw8yMcsFm0V-"
      },
      "source": [
        "test_data = torchvision.datasets.ImageFolder(root=test_path,transform=data_transformer)"
      ],
      "execution_count": 14,
      "outputs": []
    },
    {
      "cell_type": "code",
      "metadata": {
        "colab": {
          "base_uri": "https://localhost:8080/",
          "height": 0
        },
        "id": "fsFNSzkhm5iT",
        "outputId": "eb6eec32-bdf8-42ea-f933-f84a09e9f573"
      },
      "source": [
        "print(\"Number of train samples: \", len(train_data))\r\n",
        "print(\"Number of test samples: \", len(test_data))\r\n",
        "print(\"Detected Classes are: \", train_data.class_to_idx) # classes are detected by folder structure"
      ],
      "execution_count": 15,
      "outputs": [
        {
          "output_type": "stream",
          "text": [
            "Number of train samples:  9025\n",
            "Number of test samples:  3929\n",
            "Detected Classes are:  {'0': 0, '1': 1, '2': 2, '3': 3, '4': 4, '5': 5, '6': 6, '7': 7, '8': 8, '9': 9}\n"
          ],
          "name": "stdout"
        }
      ]
    },
    {
      "cell_type": "code",
      "metadata": {
        "id": "oeekwAU4nBm-"
      },
      "source": [
        "# Import libraries\r\n",
        "import torch, torchvision\r\n",
        "from torch import nn\r\n",
        "from torchvision import datasets, transforms\r\n",
        "import numpy as np\r\n",
        "import matplotlib.pyplot as plt\r\n",
        "import seaborn as sns\r\n",
        "from PIL import Image\r\n",
        "from torch.utils.data.sampler import SubsetRandomSampler\r\n",
        "from sklearn.model_selection import StratifiedShuffleSplit\r\n",
        "from torch.utils.data import Subset\r\n",
        "import collections\r\n",
        "from time import time\r\n",
        "from sklearn.metrics import accuracy_score\r\n",
        "from torchvision import models\r\n",
        "import torch\r\n",
        "from torch import optim\r\n",
        "from torch.optim.lr_scheduler import CosineAnnealingLR\r\n",
        "from torch.optim.lr_scheduler import StepLR\r\n",
        "from sklearn.metrics import confusion_matrix\r\n",
        "import copy\r\n",
        "\r\n",
        "def identify_device():\r\n",
        "    device = torch.device('cuda:0' if torch.cuda.is_available() else 'cpu')\r\n",
        "    print(device)\r\n",
        "    return device\r\n",
        "\r\n",
        "# helper function to show images\r\n",
        "def imgshow(img):\r\n",
        "    npimg = img.numpy()\r\n",
        "    plt.imshow(np.transpose(npimg, (1, 2, 0)))\r\n",
        "    plt.show()\r\n",
        "\r\n",
        "# get learning rate \r\n",
        "def get_lr(opt):\r\n",
        "    for param_group in opt.param_groups:\r\n",
        "        return param_group['lr']\r\n",
        "\r\n",
        "# A helper function to count the number of correct predictions per data batch:\r\n",
        "def metrics_batch(output, target):\r\n",
        "    # get output class\r\n",
        "    pred = output.argmax(dim=1, keepdim=True)\r\n",
        "    \r\n",
        "    # compare output class with target class\r\n",
        "    corrects=pred.eq(target.view_as(pred)).sum().item()\r\n",
        "    return corrects\r\n",
        "\r\n",
        "# A helper function to compute the loss value per batch of data:\r\n",
        "def loss_batch(loss_func, output, target, opt=None):\r\n",
        "    \r\n",
        "    # get loss \r\n",
        "    loss = loss_func(output, target)\r\n",
        "    \r\n",
        "    # get performance metric\r\n",
        "    metric_b = metrics_batch(output,target)\r\n",
        "    \r\n",
        "    if opt is not None:\r\n",
        "        opt.zero_grad()\r\n",
        "        loss.backward()\r\n",
        "        opt.step()\r\n",
        "\r\n",
        "    return loss.item(), metric_b\r\n",
        "\r\n",
        "# a helper function to compute the loss value and the performance metric for the entire dataset or an epoch.\r\n",
        "def loss_epoch(device,model,loss_func,dataset_dl,sanity_check=False,opt=None):\r\n",
        "    device = device\r\n",
        "    running_loss=0.0\r\n",
        "    running_metric=0.0\r\n",
        "    len_data=len(dataset_dl.dataset)\r\n",
        "\r\n",
        "    for xb, yb in dataset_dl:\r\n",
        "        # move batch to device\r\n",
        "        xb=xb.to(device)\r\n",
        "        yb=yb.to(device)\r\n",
        "        \r\n",
        "        # get model output\r\n",
        "        output=model(xb)\r\n",
        "        \r\n",
        "        # get loss per batch\r\n",
        "        loss_b,metric_b=loss_batch(loss_func, output, yb, opt) # changed output to output[0]\r\n",
        "        \r\n",
        "        # update running loss\r\n",
        "        running_loss+=loss_b\r\n",
        "        \r\n",
        "        # update running metric\r\n",
        "        if metric_b is not None:\r\n",
        "            running_metric+=metric_b\r\n",
        "\r\n",
        "        # break the loop in case of sanity check\r\n",
        "        if sanity_check is True:\r\n",
        "            break\r\n",
        "    \r\n",
        "    # average loss value\r\n",
        "    loss=running_loss/float(len_data)\r\n",
        "    \r\n",
        "    # average metric value\r\n",
        "    metric=running_metric/float(len_data)\r\n",
        "    \r\n",
        "    return loss, metric\r\n",
        "\r\n",
        "def train_val(device,model, params):\r\n",
        "    # extract model parameters\r\n",
        "    device=device\r\n",
        "    num_epochs=params[\"num_epochs\"]\r\n",
        "    loss_func=params[\"loss_func\"]\r\n",
        "    opt=params[\"optimizer\"]\r\n",
        "    train_loader=params[\"train_loader\"]\r\n",
        "    valid_loader=params[\"valid_loader\"]\r\n",
        "    sanity_check=params[\"sanity_check\"]\r\n",
        "    lr_scheduler=params[\"lr_scheduler\"]\r\n",
        "    path2weights=params[\"path2weights\"]\r\n",
        "    \r\n",
        "    # history of loss values in each epoch\r\n",
        "    loss_history={\r\n",
        "        \"train\": [],\r\n",
        "        \"val\": [],\r\n",
        "    }\r\n",
        "    \r\n",
        "    # histroy of metric values in each epoch\r\n",
        "    metric_history={\r\n",
        "        \"train\": [],\r\n",
        "        \"val\": [],\r\n",
        "    }\r\n",
        "    \r\n",
        "    # a deep copy of weights for the best performing model\r\n",
        "    best_model_wts = copy.deepcopy(model.state_dict())\r\n",
        "    \r\n",
        "    # initialize best loss to a large value\r\n",
        "    best_loss=float('inf')\r\n",
        "    \r\n",
        "    # main loop\r\n",
        "    for epoch in range(num_epochs):\r\n",
        "        epoch_start_time = time()\r\n",
        "        # get current learning rate\r\n",
        "        current_lr=get_lr(opt)\r\n",
        "        print('Epoch {}/{}, current lr={}'.format(epoch, num_epochs - 1, current_lr))\r\n",
        "        \r\n",
        "        # train model on training dataset\r\n",
        "        model.train()\r\n",
        "        train_loss, train_metric=loss_epoch(device,model,loss_func,train_loader,sanity_check,opt)\r\n",
        "\r\n",
        "        # collect loss and metric for training dataset\r\n",
        "        loss_history[\"train\"].append(train_loss)\r\n",
        "        metric_history[\"train\"].append(train_metric)\r\n",
        "        \r\n",
        "        # evaluate model on validation dataset    \r\n",
        "        model.eval()\r\n",
        "        with torch.no_grad():\r\n",
        "            val_loss, val_metric=loss_epoch(device,model,loss_func,valid_loader,sanity_check)\r\n",
        "        epoch_end_time = time()\r\n",
        "        epoch_total_time = epoch_end_time - epoch_start_time\r\n",
        "       \r\n",
        "        # store best model\r\n",
        "        if val_loss < best_loss:\r\n",
        "            best_loss = val_loss\r\n",
        "            best_model_wts = copy.deepcopy(model.state_dict())\r\n",
        "            \r\n",
        "            # store weights into a local file\r\n",
        "            torch.save(model.state_dict(), path2weights)\r\n",
        "            print(\"Copied best model weights!\")\r\n",
        "        \r\n",
        "        # collect loss and metric for validation dataset\r\n",
        "        loss_history[\"val\"].append(val_loss)\r\n",
        "        metric_history[\"val\"].append(val_metric)\r\n",
        "        \r\n",
        "        # learning rate schedule\r\n",
        "        lr_scheduler.step()\r\n",
        "\r\n",
        "        print(\"train loss: %.6f, valid loss: %.6f, train accuracy: %.2f, valid accuracy: %.2f, time: %.2f\" %(train_loss,val_loss,100*train_metric,100*val_metric,epoch_total_time))\r\n",
        "        print(\"-\"*10) \r\n",
        "\r\n",
        "    # load best model weights\r\n",
        "    model.load_state_dict(best_model_wts)\r\n",
        "        \r\n",
        "    return model, loss_history, metric_history\r\n",
        "\r\n",
        "def deploy_model(model,dataset,device, num_classes=10,sanity_check=False):\r\n",
        "\r\n",
        "    len_data=len(dataset)\r\n",
        "    \r\n",
        "    # initialize output tensor on CPU: due to GPU memory limits\r\n",
        "    y_out=torch.zeros(len_data,num_classes)\r\n",
        "    \r\n",
        "    # initialize ground truth on CPU: due to GPU memory limits\r\n",
        "    y_gt=np.zeros((len_data),dtype=\"uint8\")\r\n",
        "    \r\n",
        "    # move model to device\r\n",
        "    model=model.to(device)\r\n",
        "    \r\n",
        "    elapsed_times=[]\r\n",
        "    with torch.no_grad():\r\n",
        "        for i in range(len_data):\r\n",
        "            x,y=dataset[i]\r\n",
        "            y_gt[i]=y\r\n",
        "            start=time()    \r\n",
        "            yy=model(x.unsqueeze(0).to(device))\r\n",
        "            y_out[i]=torch.softmax(yy,dim=1)\r\n",
        "            elapsed=time()-start\r\n",
        "            elapsed_times.append(elapsed)\r\n",
        "\r\n",
        "            if sanity_check is True:\r\n",
        "                break\r\n",
        "\r\n",
        "    inference_time=np.mean(elapsed_times)*1000\r\n",
        "    print(\"average inference time per image on %s: %.2f ms \" %(device,inference_time))\r\n",
        "    return y_out.numpy(),y_gt\r\n",
        "def loss_accuracy_plots(params_train, loss_hist, metric_hist):\r\n",
        "    # Train-Validation Progress\r\n",
        "    num_epochs=params_train[\"num_epochs\"]\r\n",
        "\r\n",
        "    # plot loss progress\r\n",
        "    plt.title(\"Train-Val Loss\")\r\n",
        "    plt.plot(range(1,num_epochs+1),loss_hist[\"train\"],label=\"train\")\r\n",
        "    plt.plot(range(1,num_epochs+1),loss_hist[\"val\"],label=\"val\")\r\n",
        "    plt.ylabel(\"Loss\")\r\n",
        "    plt.xlabel(\"Training Epochs\")\r\n",
        "    plt.legend()\r\n",
        "    plt.show()\r\n",
        "\r\n",
        "    # plot accuracy progress\r\n",
        "    plt.title(\"Train-Val Accuracy\")\r\n",
        "    plt.plot(range(1,num_epochs+1),metric_hist[\"train\"],label=\"train\")\r\n",
        "    plt.plot(range(1,num_epochs+1),metric_hist[\"val\"],label=\"val\")\r\n",
        "    plt.ylabel(\"Accuracy\")\r\n",
        "    plt.xlabel(\"Training Epochs\")\r\n",
        "    plt.legend()\r\n",
        "    plt.show()\r\n",
        "\r\n",
        "def plot_confusion_matrix(y_true,y_pred,normalize=None):\r\n",
        "  cm=confusion_matrix(y_true,y_pred,normalize=normalize)\r\n",
        "  fig, ax = plt.subplots(figsize=(6,5))\r\n",
        "  if normalize == None:\r\n",
        "    fmt='d'\r\n",
        "    fig.suptitle('Confusion matrix without Normalization', fontsize=12)\r\n",
        "        \r\n",
        "  else :\r\n",
        "    fmt='0.2f'\r\n",
        "    fig.suptitle('Normalized confusion matrix', fontsize=12)\r\n",
        "    \r\n",
        "  ax=sns.heatmap(cm,cmap=plt.cm.Blues,annot=True,fmt=fmt)\r\n",
        "  ax.axhline(y=0, color='k',linewidth=1)\r\n",
        "  ax.axhline(y=cm.shape[1], color='k',linewidth=2)\r\n",
        "  ax.axvline(x=0, color='k',linewidth=1)\r\n",
        "  ax.axvline(x=cm.shape[0], color='k',linewidth=2)\r\n",
        " \r\n",
        "  ax.set_xlabel('Predicted label', fontsize=12)\r\n",
        "  ax.set_ylabel('True label', fontsize=12)"
      ],
      "execution_count": 16,
      "outputs": []
    },
    {
      "cell_type": "code",
      "metadata": {
        "id": "aZlqQgIanITI"
      },
      "source": [
        "#from helpers import identify_device, imgshow, get_lr, metrics_batch, loss_batch, loss_epoch, train_val, deploy_model, loss_accuracy_plots,plot_confusion_matrix \r\n",
        "from torchvision import datasets, transforms\r\n",
        "from sklearn.model_selection import StratifiedShuffleSplit\r\n",
        "from torch.utils.data import Subset\r\n",
        "import collections\r\n",
        "import matplotlib.pyplot as plt\r\n",
        "import torch, torchvision\r\n",
        "from torch.utils.data.sampler import SubsetRandomSampler\r\n",
        "from torchvision import models\r\n",
        "import torch.nn as nn\r\n",
        "from torch.optim.lr_scheduler import CosineAnnealingLR\r\n",
        "from torch.optim.lr_scheduler import StepLR\r\n",
        "from torch import optim\r\n",
        "import numpy as np\r\n",
        "from sklearn.metrics import accuracy_score\r\n",
        "from torch.utils.data import Dataset"
      ],
      "execution_count": 17,
      "outputs": []
    },
    {
      "cell_type": "code",
      "metadata": {
        "id": "8e0-MFhWnKjT",
        "colab": {
          "base_uri": "https://localhost:8080/",
          "height": 0
        },
        "outputId": "f964d466-886d-475b-89ae-bdcd8af177c7"
      },
      "source": [
        "device = identify_device()"
      ],
      "execution_count": 19,
      "outputs": [
        {
          "output_type": "stream",
          "text": [
            "cuda:0\n"
          ],
          "name": "stdout"
        }
      ]
    },
    {
      "cell_type": "code",
      "metadata": {
        "id": "_4vn4j7bopn-"
      },
      "source": [
        "sss = StratifiedShuffleSplit(n_splits=1, test_size=0.2, random_state=0)\r\n",
        "indices=list(range(len(train_data)))\r\n",
        "y_train0=[y for _,y in train_data]"
      ],
      "execution_count": 20,
      "outputs": []
    },
    {
      "cell_type": "code",
      "metadata": {
        "colab": {
          "base_uri": "https://localhost:8080/",
          "height": 0
        },
        "id": "ZLUIxbp-pAZM",
        "outputId": "d5a41ed6-e431-41b7-94da-3613ea27d469"
      },
      "source": [
        "for train_index, valid_index in sss.split(indices, y_train0):\r\n",
        "    print(\"train:\", train_index, \"val:\", valid_index)\r\n",
        "    print(len(train_index),len(valid_index))"
      ],
      "execution_count": 21,
      "outputs": [
        {
          "output_type": "stream",
          "text": [
            "train: [1839 3574 3909 ... 7933 2329 2936] val: [7430 3522  388 ... 1715 2598 2489]\n",
            "7220 1805\n"
          ],
          "name": "stdout"
        }
      ]
    },
    {
      "cell_type": "code",
      "metadata": {
        "id": "fjhAnh_-p1dO"
      },
      "source": [
        "train_dataset = Subset(train_data, indices=train_index)\r\n",
        "valid_dataset = Subset(train_data, indices=valid_index)"
      ],
      "execution_count": 22,
      "outputs": []
    },
    {
      "cell_type": "code",
      "metadata": {
        "id": "det-1wqoqBzW"
      },
      "source": [
        "# Count of each target class in train and valid\r\n",
        "y_train=[y for _,y in train_dataset]\r\n",
        "y_valid=[y for _,y in valid_dataset]\r\n",
        "\r\n",
        "counter_train=collections.Counter(y_train)\r\n",
        "counter_val=collections.Counter(y_valid)\r\n",
        "sorted_train_counter = sorted(counter_train.items())\r\n",
        "sorted_valid_counter = sorted(counter_val.items())"
      ],
      "execution_count": 23,
      "outputs": []
    },
    {
      "cell_type": "code",
      "metadata": {
        "colab": {
          "base_uri": "https://localhost:8080/",
          "height": 0
        },
        "id": "RJHXsSZ8qr13",
        "outputId": "90781e71-0b92-4d8c-f71b-54945a0a1be6"
      },
      "source": [
        "print(f'Train : {sorted_train_counter}')\r\n",
        "print(f'Valid : {sorted_valid_counter}')"
      ],
      "execution_count": 24,
      "outputs": [
        {
          "output_type": "stream",
          "text": [
            "Train : [(0, 753), (1, 742), (2, 737), (3, 746), (4, 464), (5, 752), (6, 754), (7, 759), (8, 754), (9, 759)]\n",
            "Valid : [(0, 188), (1, 186), (2, 184), (3, 186), (4, 116), (5, 188), (6, 189), (7, 190), (8, 188), (9, 190)]\n"
          ],
          "name": "stdout"
        }
      ]
    },
    {
      "cell_type": "code",
      "metadata": {
        "colab": {
          "base_uri": "https://localhost:8080/",
          "height": 0
        },
        "id": "i27y6qMZq59-",
        "outputId": "1d5d5a54-60f9-4972-cdbe-c4698d316593"
      },
      "source": [
        "total = len(train_dataset)\r\n",
        "weights = []\r\n",
        "for item in sorted_train_counter:\r\n",
        "    weight = total/(10*item[1])\r\n",
        "    weights.append(weight)\r\n",
        "print(weights)"
      ],
      "execution_count": 25,
      "outputs": [
        {
          "output_type": "stream",
          "text": [
            "[0.9588313413014609, 0.9730458221024259, 0.9796472184531886, 0.967828418230563, 1.5560344827586208, 0.9601063829787234, 0.9575596816976127, 0.9512516469038208, 0.9575596816976127, 0.9512516469038208]\n"
          ],
          "name": "stdout"
        }
      ]
    },
    {
      "cell_type": "code",
      "metadata": {
        "id": "Dc6gkcT7q8Xf"
      },
      "source": [
        "weights_tensor = torch.tensor(weights).to(device)"
      ],
      "execution_count": 26,
      "outputs": []
    },
    {
      "cell_type": "code",
      "metadata": {
        "id": "gXW3s9J1rLg2"
      },
      "source": [
        "# overwrite the transform functions\r\n",
        "# Note that when we update the test0_ds.transform function, both val_ds, \r\n",
        "# and test_ds will be updated since they are subsets of test0_ds.\r\n",
        "train_data.transform=train_transformer\r\n",
        "test_data.transform=test0_transformer"
      ],
      "execution_count": 27,
      "outputs": []
    },
    {
      "cell_type": "code",
      "metadata": {
        "colab": {
          "base_uri": "https://localhost:8080/",
          "height": 0
        },
        "id": "__boOyPutRdZ",
        "outputId": "92304e1b-d010-48d2-b2c7-7786b8e767ff"
      },
      "source": [
        "torch.manual_seed(0)\r\n",
        "\r\n",
        "train_idx = indices=list(range(len(train_dataset)))\r\n",
        "valid_idx = indices=list(range(len(valid_dataset)))\r\n",
        "\r\n",
        "# define samplers for obtaining training and validation batches\r\n",
        "train_sampler = SubsetRandomSampler(train_idx)#imblance\r\n",
        "valid_sampler = SubsetRandomSampler(valid_idx)"
      ],
      "execution_count": 28,
      "outputs": [
        {
          "output_type": "execute_result",
          "data": {
            "text/plain": [
              "<torch._C.Generator at 0x7fee9f547c48>"
            ]
          },
          "metadata": {
            "tags": []
          },
          "execution_count": 28
        }
      ]
    },
    {
      "cell_type": "code",
      "metadata": {
        "colab": {
          "base_uri": "https://localhost:8080/",
          "height": 0
        },
        "id": "bB4PPQo0vTnr",
        "outputId": "c1f16807-bca9-4f40-ff30-b7b4bb6a5630"
      },
      "source": [
        "batch_size=16\r\n",
        "train_loader= torch.utils.data.DataLoader(dataset=train_dataset, batch_size=batch_size, sampler=train_sampler)\r\n",
        "valid_loader= torch.utils.data.DataLoader(dataset=valid_dataset, batch_size=batch_size, sampler=valid_sampler)\r\n",
        "torch.manual_seed(0)\r\n",
        "#test_loader= torch.utils.data.DataLoader(dataset=test_data,\r\n",
        "                                        #batch_size=batch_size,\r\n",
        "                                        #shuffle=False\r\n",
        "                                        #)"
      ],
      "execution_count": 29,
      "outputs": [
        {
          "output_type": "execute_result",
          "data": {
            "text/plain": [
              "<torch._C.Generator at 0x7fee9f547c48>"
            ]
          },
          "metadata": {
            "tags": []
          },
          "execution_count": 29
        }
      ]
    },
    {
      "cell_type": "code",
      "metadata": {
        "colab": {
          "base_uri": "https://localhost:8080/",
          "height": 0
        },
        "id": "9a8bvMTovZp9",
        "outputId": "7a026075-a4e7-4e8b-e081-1ef81b454100"
      },
      "source": [
        "# Shape of training batch\r\n",
        "dataiter = iter(train_loader)\r\n",
        "train_images, train_labels = dataiter.next()\r\n",
        "\r\n",
        "print('Training data:')\r\n",
        "print('X shape:',train_images.shape)\r\n",
        "print('y shape:',train_labels.shape)"
      ],
      "execution_count": 30,
      "outputs": [
        {
          "output_type": "stream",
          "text": [
            "Training data:\n",
            "X shape: torch.Size([16, 3, 299, 299])\n",
            "y shape: torch.Size([16])\n"
          ],
          "name": "stdout"
        }
      ]
    },
    {
      "cell_type": "code",
      "metadata": {
        "colab": {
          "base_uri": "https://localhost:8080/",
          "height": 0
        },
        "id": "ZU5uvBAHvbwe",
        "outputId": "9aa49cf8-58da-4b23-dcb1-8590e620fe6e"
      },
      "source": [
        "# Shape of validation batch\r\n",
        "dataiter = iter(valid_loader)\r\n",
        "valid_images, valid_labels = dataiter.next()\r\n",
        "\r\n",
        "print('Validation data:')\r\n",
        "print('X shape:',valid_images.shape)\r\n",
        "print('y shape:',valid_labels.shape)"
      ],
      "execution_count": 31,
      "outputs": [
        {
          "output_type": "stream",
          "text": [
            "Validation data:\n",
            "X shape: torch.Size([16, 3, 299, 299])\n",
            "y shape: torch.Size([16])\n"
          ],
          "name": "stdout"
        }
      ]
    },
    {
      "cell_type": "code",
      "metadata": {
        "colab": {
          "base_uri": "https://localhost:8080/",
          "height": 264
        },
        "id": "NJhNcczcw9YX",
        "outputId": "517014c1-c029-43a1-ae09-61abaefd27c1"
      },
      "source": [
        "import torch\r\n",
        "np.random.seed(0)\r\n",
        "torch.manual_seed(0)\r\n",
        "def show(img,y=None,color=True):\r\n",
        "    npimg = img.numpy()\r\n",
        "    npimg_tr=np.transpose(npimg, (1,2,0))\r\n",
        "    plt.imshow(npimg_tr)\r\n",
        "    if y is not None:\r\n",
        "        plt.title(\"label: \"+str(y))\r\n",
        "\r\n",
        "# make a grid\r\n",
        "grid_size=4\r\n",
        "rnd_inds=np.random.randint(0,len(train_dataset),grid_size)\r\n",
        "print(\"image indices:\",rnd_inds)\r\n",
        "\r\n",
        "x_grid=[train_dataset[i][0] for i in rnd_inds]\r\n",
        "y_grid=[train_dataset[i][1] for i in rnd_inds]\r\n",
        "\r\n",
        "x_grid=utils.make_grid(x_grid, nrow=4, padding=2)\r\n",
        "print(x_grid.shape)\r\n",
        "\r\n",
        "# call helper function\r\n",
        "plt.figure(figsize=(10,10))\r\n",
        "show(x_grid,y_grid)"
      ],
      "execution_count": 32,
      "outputs": [
        {
          "output_type": "execute_result",
          "data": {
            "text/plain": [
              "<torch._C.Generator at 0x7fee9f547c48>"
            ]
          },
          "metadata": {
            "tags": []
          },
          "execution_count": 32
        },
        {
          "output_type": "stream",
          "text": [
            "image indices: [2732 2607 1653 3264]\n",
            "torch.Size([3, 303, 1206])\n"
          ],
          "name": "stdout"
        },
        {
          "output_type": "execute_result",
          "data": {
            "text/plain": [
              "<Figure size 720x720 with 0 Axes>"
            ]
          },
          "metadata": {
            "tags": []
          },
          "execution_count": 32
        },
        {
          "output_type": "stream",
          "text": [
            "Clipping input data to the valid range for imshow with RGB data ([0..1] for floats or [0..255] for integers).\n"
          ],
          "name": "stderr"
        },
        {
          "output_type": "display_data",
          "data": {
            "image/png": "[encoded data removed]",
            "text/plain": [
              "<Figure size 720x720 with 1 Axes>"
            ]
          },
          "metadata": {
            "tags": [],
            "needs_background": "light"
          }
        }
      ]
    },
    {
      "cell_type": "code",
      "metadata": {
        "colab": {
          "base_uri": "https://localhost:8080/",
          "height": 0
        },
        "id": "CheGau_2xXje",
        "outputId": "35b3caa5-fd7a-44be-e0a6-dfcf2e29fcb8"
      },
      "source": [
        "# upload model to GPU\r\n",
        "device = torch.device('cuda:0' if torch.cuda.is_available() else 'cpu')\r\n",
        "print(device)"
      ],
      "execution_count": 33,
      "outputs": [
        {
          "output_type": "stream",
          "text": [
            "cuda:0\n"
          ],
          "name": "stdout"
        }
      ]
    },
    {
      "cell_type": "code",
      "metadata": {
        "colab": {
          "base_uri": "https://localhost:8080/",
          "height": 3135,
          "referenced_widgets": [
            "cae270a17d134f3e9aca1d8f8e30a14e",
            "c13bcf857e2543219fc7ab24b1f6146f",
            "147cb64a79b040da803dc0f9fc1056f0",
            "8a6ca6866e1c4958846af7798fa605e1",
            "1594cf0aab2f40a79f3e07191ed9562b",
            "bd937e75c7f943bdb7439421991e12e0",
            "55221f6144064596b4402ff981c3f79d",
            "c66ed7ae198e48248b1c35a381baa51a"
          ]
        },
        "id": "DFsqa9XzxbaV",
        "outputId": "03f6044b-c2f2-42dd-97fd-5d9e328413fb"
      },
      "source": [
        "from torchvision import models\r\n",
        "import torch\r\n",
        "\r\n",
        "# load model with pretrained weights\r\n",
        "resnet50_pretrained = models.resnet50(pretrained=True)\r\n",
        "\r\n",
        "# change the output layer\r\n",
        "num_classes=10\r\n",
        "num_ftrs = resnet50_pretrained.fc.in_features\r\n",
        "resnet50_pretrained.fc = nn.Linear(num_ftrs, num_classes)\r\n",
        "\r\n",
        "#device = torch.device(\"cuda:0\")\r\n",
        "resnet50_pretrained.to(device) "
      ],
      "execution_count": 34,
      "outputs": [
        {
          "output_type": "stream",
          "text": [
            "Downloading: \"https://download.pytorch.org/models/resnet50-19c8e357.pth\" to /root/.cache/torch/hub/checkpoints/resnet50-19c8e357.pth\n"
          ],
          "name": "stderr"
        },
        {
          "output_type": "display_data",
          "data": {
            "application/vnd.jupyter.widget-view+json": {
              "model_id": "cae270a17d134f3e9aca1d8f8e30a14e",
              "version_minor": 0,
              "version_major": 2
            },
            "text/plain": [
              "HBox(children=(FloatProgress(value=0.0, max=102502400.0), HTML(value='')))"
            ]
          },
          "metadata": {
            "tags": []
          }
        },
        {
          "output_type": "stream",
          "text": [
            "\n"
          ],
          "name": "stdout"
        },
        {
          "output_type": "execute_result",
          "data": {
            "text/plain": [
              "ResNet(\n",
              "  (conv1): Conv2d(3, 64, kernel_size=(7, 7), stride=(2, 2), padding=(3, 3), bias=False)\n",
              "  (bn1): BatchNorm2d(64, eps=1e-05, momentum=0.1, affine=True, track_running_stats=True)\n",
              "  (relu): ReLU(inplace=True)\n",
              "  (maxpool): MaxPool2d(kernel_size=3, stride=2, padding=1, dilation=1, ceil_mode=False)\n",
              "  (layer1): Sequential(\n",
              "    (0): Bottleneck(\n",
              "      (conv1): Conv2d(64, 64, kernel_size=(1, 1), stride=(1, 1), bias=False)\n",
              "      (bn1): BatchNorm2d(64, eps=1e-05, momentum=0.1, affine=True, track_running_stats=True)\n",
              "      (conv2): Conv2d(64, 64, kernel_size=(3, 3), stride=(1, 1), padding=(1, 1), bias=False)\n",
              "      (bn2): BatchNorm2d(64, eps=1e-05, momentum=0.1, affine=True, track_running_stats=True)\n",
              "      (conv3): Conv2d(64, 256, kernel_size=(1, 1), stride=(1, 1), bias=False)\n",
              "      (bn3): BatchNorm2d(256, eps=1e-05, momentum=0.1, affine=True, track_running_stats=True)\n",
              "      (relu): ReLU(inplace=True)\n",
              "      (downsample): Sequential(\n",
              "        (0): Conv2d(64, 256, kernel_size=(1, 1), stride=(1, 1), bias=False)\n",
              "        (1): BatchNorm2d(256, eps=1e-05, momentum=0.1, affine=True, track_running_stats=True)\n",
              "      )\n",
              "    )\n",
              "    (1): Bottleneck(\n",
              "      (conv1): Conv2d(256, 64, kernel_size=(1, 1), stride=(1, 1), bias=False)\n",
              "      (bn1): BatchNorm2d(64, eps=1e-05, momentum=0.1, affine=True, track_running_stats=True)\n",
              "      (conv2): Conv2d(64, 64, kernel_size=(3, 3), stride=(1, 1), padding=(1, 1), bias=False)\n",
              "      (bn2): BatchNorm2d(64, eps=1e-05, momentum=0.1, affine=True, track_running_stats=True)\n",
              "      (conv3): Conv2d(64, 256, kernel_size=(1, 1), stride=(1, 1), bias=False)\n",
              "      (bn3): BatchNorm2d(256, eps=1e-05, momentum=0.1, affine=True, track_running_stats=True)\n",
              "      (relu): ReLU(inplace=True)\n",
              "    )\n",
              "    (2): Bottleneck(\n",
              "      (conv1): Conv2d(256, 64, kernel_size=(1, 1), stride=(1, 1), bias=False)\n",
              "      (bn1): BatchNorm2d(64, eps=1e-05, momentum=0.1, affine=True, track_running_stats=True)\n",
              "      (conv2): Conv2d(64, 64, kernel_size=(3, 3), stride=(1, 1), padding=(1, 1), bias=False)\n",
              "      (bn2): BatchNorm2d(64, eps=1e-05, momentum=0.1, affine=True, track_running_stats=True)\n",
              "      (conv3): Conv2d(64, 256, kernel_size=(1, 1), stride=(1, 1), bias=False)\n",
              "      (bn3): BatchNorm2d(256, eps=1e-05, momentum=0.1, affine=True, track_running_stats=True)\n",
              "      (relu): ReLU(inplace=True)\n",
              "    )\n",
              "  )\n",
              "  (layer2): Sequential(\n",
              "    (0): Bottleneck(\n",
              "      (conv1): Conv2d(256, 128, kernel_size=(1, 1), stride=(1, 1), bias=False)\n",
              "      (bn1): BatchNorm2d(128, eps=1e-05, momentum=0.1, affine=True, track_running_stats=True)\n",
              "      (conv2): Conv2d(128, 128, kernel_size=(3, 3), stride=(2, 2), padding=(1, 1), bias=False)\n",
              "      (bn2): BatchNorm2d(128, eps=1e-05, momentum=0.1, affine=True, track_running_stats=True)\n",
              "      (conv3): Conv2d(128, 512, kernel_size=(1, 1), stride=(1, 1), bias=False)\n",
              "      (bn3): BatchNorm2d(512, eps=1e-05, momentum=0.1, affine=True, track_running_stats=True)\n",
              "      (relu): ReLU(inplace=True)\n",
              "      (downsample): Sequential(\n",
              "        (0): Conv2d(256, 512, kernel_size=(1, 1), stride=(2, 2), bias=False)\n",
              "        (1): BatchNorm2d(512, eps=1e-05, momentum=0.1, affine=True, track_running_stats=True)\n",
              "      )\n",
              "    )\n",
              "    (1): Bottleneck(\n",
              "      (conv1): Conv2d(512, 128, kernel_size=(1, 1), stride=(1, 1), bias=False)\n",
              "      (bn1): BatchNorm2d(128, eps=1e-05, momentum=0.1, affine=True, track_running_stats=True)\n",
              "      (conv2): Conv2d(128, 128, kernel_size=(3, 3), stride=(1, 1), padding=(1, 1), bias=False)\n",
              "      (bn2): BatchNorm2d(128, eps=1e-05, momentum=0.1, affine=True, track_running_stats=True)\n",
              "      (conv3): Conv2d(128, 512, kernel_size=(1, 1), stride=(1, 1), bias=False)\n",
              "      (bn3): BatchNorm2d(512, eps=1e-05, momentum=0.1, affine=True, track_running_stats=True)\n",
              "      (relu): ReLU(inplace=True)\n",
              "    )\n",
              "    (2): Bottleneck(\n",
              "      (conv1): Conv2d(512, 128, kernel_size=(1, 1), stride=(1, 1), bias=False)\n",
              "      (bn1): BatchNorm2d(128, eps=1e-05, momentum=0.1, affine=True, track_running_stats=True)\n",
              "      (conv2): Conv2d(128, 128, kernel_size=(3, 3), stride=(1, 1), padding=(1, 1), bias=False)\n",
              "      (bn2): BatchNorm2d(128, eps=1e-05, momentum=0.1, affine=True, track_running_stats=True)\n",
              "      (conv3): Conv2d(128, 512, kernel_size=(1, 1), stride=(1, 1), bias=False)\n",
              "      (bn3): BatchNorm2d(512, eps=1e-05, momentum=0.1, affine=True, track_running_stats=True)\n",
              "      (relu): ReLU(inplace=True)\n",
              "    )\n",
              "    (3): Bottleneck(\n",
              "      (conv1): Conv2d(512, 128, kernel_size=(1, 1), stride=(1, 1), bias=False)\n",
              "      (bn1): BatchNorm2d(128, eps=1e-05, momentum=0.1, affine=True, track_running_stats=True)\n",
              "      (conv2): Conv2d(128, 128, kernel_size=(3, 3), stride=(1, 1), padding=(1, 1), bias=False)\n",
              "      (bn2): BatchNorm2d(128, eps=1e-05, momentum=0.1, affine=True, track_running_stats=True)\n",
              "      (conv3): Conv2d(128, 512, kernel_size=(1, 1), stride=(1, 1), bias=False)\n",
              "      (bn3): BatchNorm2d(512, eps=1e-05, momentum=0.1, affine=True, track_running_stats=True)\n",
              "      (relu): ReLU(inplace=True)\n",
              "    )\n",
              "  )\n",
              "  (layer3): Sequential(\n",
              "    (0): Bottleneck(\n",
              "      (conv1): Conv2d(512, 256, kernel_size=(1, 1), stride=(1, 1), bias=False)\n",
              "      (bn1): BatchNorm2d(256, eps=1e-05, momentum=0.1, affine=True, track_running_stats=True)\n",
              "      (conv2): Conv2d(256, 256, kernel_size=(3, 3), stride=(2, 2), padding=(1, 1), bias=False)\n",
              "      (bn2): BatchNorm2d(256, eps=1e-05, momentum=0.1, affine=True, track_running_stats=True)\n",
              "      (conv3): Conv2d(256, 1024, kernel_size=(1, 1), stride=(1, 1), bias=False)\n",
              "      (bn3): BatchNorm2d(1024, eps=1e-05, momentum=0.1, affine=True, track_running_stats=True)\n",
              "      (relu): ReLU(inplace=True)\n",
              "      (downsample): Sequential(\n",
              "        (0): Conv2d(512, 1024, kernel_size=(1, 1), stride=(2, 2), bias=False)\n",
              "        (1): BatchNorm2d(1024, eps=1e-05, momentum=0.1, affine=True, track_running_stats=True)\n",
              "      )\n",
              "    )\n",
              "    (1): Bottleneck(\n",
              "      (conv1): Conv2d(1024, 256, kernel_size=(1, 1), stride=(1, 1), bias=False)\n",
              "      (bn1): BatchNorm2d(256, eps=1e-05, momentum=0.1, affine=True, track_running_stats=True)\n",
              "      (conv2): Conv2d(256, 256, kernel_size=(3, 3), stride=(1, 1), padding=(1, 1), bias=False)\n",
              "      (bn2): BatchNorm2d(256, eps=1e-05, momentum=0.1, affine=True, track_running_stats=True)\n",
              "      (conv3): Conv2d(256, 1024, kernel_size=(1, 1), stride=(1, 1), bias=False)\n",
              "      (bn3): BatchNorm2d(1024, eps=1e-05, momentum=0.1, affine=True, track_running_stats=True)\n",
              "      (relu): ReLU(inplace=True)\n",
              "    )\n",
              "    (2): Bottleneck(\n",
              "      (conv1): Conv2d(1024, 256, kernel_size=(1, 1), stride=(1, 1), bias=False)\n",
              "      (bn1): BatchNorm2d(256, eps=1e-05, momentum=0.1, affine=True, track_running_stats=True)\n",
              "      (conv2): Conv2d(256, 256, kernel_size=(3, 3), stride=(1, 1), padding=(1, 1), bias=False)\n",
              "      (bn2): BatchNorm2d(256, eps=1e-05, momentum=0.1, affine=True, track_running_stats=True)\n",
              "      (conv3): Conv2d(256, 1024, kernel_size=(1, 1), stride=(1, 1), bias=False)\n",
              "      (bn3): BatchNorm2d(1024, eps=1e-05, momentum=0.1, affine=True, track_running_stats=True)\n",
              "      (relu): ReLU(inplace=True)\n",
              "    )\n",
              "    (3): Bottleneck(\n",
              "      (conv1): Conv2d(1024, 256, kernel_size=(1, 1), stride=(1, 1), bias=False)\n",
              "      (bn1): BatchNorm2d(256, eps=1e-05, momentum=0.1, affine=True, track_running_stats=True)\n",
              "      (conv2): Conv2d(256, 256, kernel_size=(3, 3), stride=(1, 1), padding=(1, 1), bias=False)\n",
              "      (bn2): BatchNorm2d(256, eps=1e-05, momentum=0.1, affine=True, track_running_stats=True)\n",
              "      (conv3): Conv2d(256, 1024, kernel_size=(1, 1), stride=(1, 1), bias=False)\n",
              "      (bn3): BatchNorm2d(1024, eps=1e-05, momentum=0.1, affine=True, track_running_stats=True)\n",
              "      (relu): ReLU(inplace=True)\n",
              "    )\n",
              "    (4): Bottleneck(\n",
              "      (conv1): Conv2d(1024, 256, kernel_size=(1, 1), stride=(1, 1), bias=False)\n",
              "      (bn1): BatchNorm2d(256, eps=1e-05, momentum=0.1, affine=True, track_running_stats=True)\n",
              "      (conv2): Conv2d(256, 256, kernel_size=(3, 3), stride=(1, 1), padding=(1, 1), bias=False)\n",
              "      (bn2): BatchNorm2d(256, eps=1e-05, momentum=0.1, affine=True, track_running_stats=True)\n",
              "      (conv3): Conv2d(256, 1024, kernel_size=(1, 1), stride=(1, 1), bias=False)\n",
              "      (bn3): BatchNorm2d(1024, eps=1e-05, momentum=0.1, affine=True, track_running_stats=True)\n",
              "      (relu): ReLU(inplace=True)\n",
              "    )\n",
              "    (5): Bottleneck(\n",
              "      (conv1): Conv2d(1024, 256, kernel_size=(1, 1), stride=(1, 1), bias=False)\n",
              "      (bn1): BatchNorm2d(256, eps=1e-05, momentum=0.1, affine=True, track_running_stats=True)\n",
              "      (conv2): Conv2d(256, 256, kernel_size=(3, 3), stride=(1, 1), padding=(1, 1), bias=False)\n",
              "      (bn2): BatchNorm2d(256, eps=1e-05, momentum=0.1, affine=True, track_running_stats=True)\n",
              "      (conv3): Conv2d(256, 1024, kernel_size=(1, 1), stride=(1, 1), bias=False)\n",
              "      (bn3): BatchNorm2d(1024, eps=1e-05, momentum=0.1, affine=True, track_running_stats=True)\n",
              "      (relu): ReLU(inplace=True)\n",
              "    )\n",
              "  )\n",
              "  (layer4): Sequential(\n",
              "    (0): Bottleneck(\n",
              "      (conv1): Conv2d(1024, 512, kernel_size=(1, 1), stride=(1, 1), bias=False)\n",
              "      (bn1): BatchNorm2d(512, eps=1e-05, momentum=0.1, affine=True, track_running_stats=True)\n",
              "      (conv2): Conv2d(512, 512, kernel_size=(3, 3), stride=(2, 2), padding=(1, 1), bias=False)\n",
              "      (bn2): BatchNorm2d(512, eps=1e-05, momentum=0.1, affine=True, track_running_stats=True)\n",
              "      (conv3): Conv2d(512, 2048, kernel_size=(1, 1), stride=(1, 1), bias=False)\n",
              "      (bn3): BatchNorm2d(2048, eps=1e-05, momentum=0.1, affine=True, track_running_stats=True)\n",
              "      (relu): ReLU(inplace=True)\n",
              "      (downsample): Sequential(\n",
              "        (0): Conv2d(1024, 2048, kernel_size=(1, 1), stride=(2, 2), bias=False)\n",
              "        (1): BatchNorm2d(2048, eps=1e-05, momentum=0.1, affine=True, track_running_stats=True)\n",
              "      )\n",
              "    )\n",
              "    (1): Bottleneck(\n",
              "      (conv1): Conv2d(2048, 512, kernel_size=(1, 1), stride=(1, 1), bias=False)\n",
              "      (bn1): BatchNorm2d(512, eps=1e-05, momentum=0.1, affine=True, track_running_stats=True)\n",
              "      (conv2): Conv2d(512, 512, kernel_size=(3, 3), stride=(1, 1), padding=(1, 1), bias=False)\n",
              "      (bn2): BatchNorm2d(512, eps=1e-05, momentum=0.1, affine=True, track_running_stats=True)\n",
              "      (conv3): Conv2d(512, 2048, kernel_size=(1, 1), stride=(1, 1), bias=False)\n",
              "      (bn3): BatchNorm2d(2048, eps=1e-05, momentum=0.1, affine=True, track_running_stats=True)\n",
              "      (relu): ReLU(inplace=True)\n",
              "    )\n",
              "    (2): Bottleneck(\n",
              "      (conv1): Conv2d(2048, 512, kernel_size=(1, 1), stride=(1, 1), bias=False)\n",
              "      (bn1): BatchNorm2d(512, eps=1e-05, momentum=0.1, affine=True, track_running_stats=True)\n",
              "      (conv2): Conv2d(512, 512, kernel_size=(3, 3), stride=(1, 1), padding=(1, 1), bias=False)\n",
              "      (bn2): BatchNorm2d(512, eps=1e-05, momentum=0.1, affine=True, track_running_stats=True)\n",
              "      (conv3): Conv2d(512, 2048, kernel_size=(1, 1), stride=(1, 1), bias=False)\n",
              "      (bn3): BatchNorm2d(2048, eps=1e-05, momentum=0.1, affine=True, track_running_stats=True)\n",
              "      (relu): ReLU(inplace=True)\n",
              "    )\n",
              "  )\n",
              "  (avgpool): AdaptiveAvgPool2d(output_size=(1, 1))\n",
              "  (fc): Linear(in_features=2048, out_features=10, bias=True)\n",
              ")"
            ]
          },
          "metadata": {
            "tags": []
          },
          "execution_count": 34
        }
      ]
    },
    {
      "cell_type": "code",
      "metadata": {
        "colab": {
          "base_uri": "https://localhost:8080/",
          "height": 397
        },
        "id": "1k9RwgYzx1ZK",
        "outputId": "d923ac36-d089-433b-dcb3-2f38a48ee43c"
      },
      "source": [
        "# get Conv1 weights\r\n",
        "for w in resnet50_pretrained.parameters():\r\n",
        "    w=w.data.cpu()\r\n",
        "    print(w.shape)\r\n",
        "    break\r\n",
        "\r\n",
        "# normalize to [0,1]\r\n",
        "min_w=torch.min(w)\r\n",
        "w1 = (-1/(2*min_w))*w + 0.5 \r\n",
        "print(torch.min(w1).item(),torch.max(w1).item())\r\n",
        "\r\n",
        "# make a grid\r\n",
        "grid_size=len(w1)\r\n",
        "x_grid=[w1[i] for i in range(grid_size)]\r\n",
        "x_grid=utils.make_grid(x_grid, nrow=8, padding=1)\r\n",
        "print(x_grid.shape)\r\n",
        "\r\n",
        "# call helper function\r\n",
        "plt.figure(figsize=(5,5))\r\n",
        "show(x_grid)"
      ],
      "execution_count": 35,
      "outputs": [
        {
          "output_type": "stream",
          "text": [
            "torch.Size([64, 3, 7, 7])\n",
            "2.9802322387695312e-08 0.9998041391372681\n",
            "torch.Size([3, 65, 65])\n"
          ],
          "name": "stdout"
        },
        {
          "output_type": "execute_result",
          "data": {
            "text/plain": [
              "<Figure size 360x360 with 0 Axes>"
            ]
          },
          "metadata": {
            "tags": []
          },
          "execution_count": 35
        },
        {
          "output_type": "display_data",
          "data": {
            "image/png": "[encoded data removed]",
            "text/plain": [
              "<Figure size 360x360 with 1 Axes>"
            ]
          },
          "metadata": {
            "tags": [],
            "needs_background": "light"
          }
        }
      ]
    },
    {
      "cell_type": "code",
      "metadata": {
        "id": "pIqWyRwgx5EA"
      },
      "source": [
        "loss_func = nn.CrossEntropyLoss(reduction=\"sum\")"
      ],
      "execution_count": 36,
      "outputs": []
    },
    {
      "cell_type": "code",
      "metadata": {
        "id": "hWHqBVNBx8SW"
      },
      "source": [
        "from torch import optim\r\n",
        "opt = optim.Adam(resnet50_pretrained.parameters(), lr=1e-4)"
      ],
      "execution_count": 37,
      "outputs": []
    },
    {
      "cell_type": "code",
      "metadata": {
        "colab": {
          "base_uri": "https://localhost:8080/",
          "height": 0
        },
        "id": "TWPfSzVByF9X",
        "outputId": "5ad8146e-e417-40bf-f896-60c3791308ac"
      },
      "source": [
        "# get learning rate \r\n",
        "def get_lr(opt):\r\n",
        "    for param_group in opt.param_groups:\r\n",
        "        return param_group['lr']\r\n",
        "\r\n",
        "current_lr=get_lr(opt)\r\n",
        "print('current lr={}'.format(current_lr))"
      ],
      "execution_count": 38,
      "outputs": [
        {
          "output_type": "stream",
          "text": [
            "current lr=0.0001\n"
          ],
          "name": "stdout"
        }
      ]
    },
    {
      "cell_type": "code",
      "metadata": {
        "id": "Hioy1OyjyQEv"
      },
      "source": [
        "from torch.optim.lr_scheduler import CosineAnnealingLR\r\n",
        "\r\n",
        "# define learning rate scheduler\r\n",
        "# Several methods exist to adjust the learning rate. For a list of supported methods by PyTorch, \r\n",
        "# please visit the following link: https://pytorch.org/docs/stable/optim.html.\r\n",
        "lr_scheduler = CosineAnnealingLR(opt,T_max=2,eta_min=1e-5)"
      ],
      "execution_count": 39,
      "outputs": []
    },
    {
      "cell_type": "code",
      "metadata": {
        "colab": {
          "base_uri": "https://localhost:8080/",
          "height": 0
        },
        "id": "hmxn0yukyXcK",
        "outputId": "aca76a72-de08-4244-e351-8348257f91b8"
      },
      "source": [
        "lrs=[]\r\n",
        "for i in range(10):\r\n",
        "    lr_scheduler.step()\r\n",
        "    lr=get_lr(opt)\r\n",
        "    print(\"epoch %s, lr: %.1e\" %(i,lr))\r\n",
        "    lrs.append(lr)"
      ],
      "execution_count": 40,
      "outputs": [
        {
          "output_type": "stream",
          "text": [
            "epoch 0, lr: 5.5e-05\n",
            "epoch 1, lr: 1.0e-05\n",
            "epoch 2, lr: 5.5e-05\n",
            "epoch 3, lr: 1.0e-04\n",
            "epoch 4, lr: 5.5e-05\n",
            "epoch 5, lr: 1.0e-05\n",
            "epoch 6, lr: 5.5e-05\n",
            "epoch 7, lr: 1.0e-04\n",
            "epoch 8, lr: 5.5e-05\n",
            "epoch 9, lr: 1.0e-05\n"
          ],
          "name": "stdout"
        },
        {
          "output_type": "stream",
          "text": [
            "/usr/local/lib/python3.6/dist-packages/torch/optim/lr_scheduler.py:136: UserWarning: Detected call of `lr_scheduler.step()` before `optimizer.step()`. In PyTorch 1.1.0 and later, you should call them in the opposite order: `optimizer.step()` before `lr_scheduler.step()`.  Failure to do this will result in PyTorch skipping the first value of the learning rate schedule. See more details at https://pytorch.org/docs/stable/optim.html#how-to-adjust-learning-rate\n",
            "  \"https://pytorch.org/docs/stable/optim.html#how-to-adjust-learning-rate\", UserWarning)\n"
          ],
          "name": "stderr"
        }
      ]
    },
    {
      "cell_type": "code",
      "metadata": {
        "id": "VezTzIXOyaSz"
      },
      "source": [
        "# A helper function to count the number of correct predictions per data batch:\r\n",
        "def metrics_batch(output, target):\r\n",
        "    # get output class\r\n",
        "    pred = output.argmax(dim=1, keepdim=True)\r\n",
        "    \r\n",
        "    # compare output class with target class\r\n",
        "    corrects=pred.eq(target.view_as(pred)).sum().item()\r\n",
        "    return corrects"
      ],
      "execution_count": 41,
      "outputs": []
    },
    {
      "cell_type": "code",
      "metadata": {
        "id": "SnmoIp_Sye5h"
      },
      "source": [
        "# A helper function to compute the loss value per batch of data:\r\n",
        "def loss_batch(loss_func, output, target, opt=None):\r\n",
        "    \r\n",
        "    # get loss \r\n",
        "    loss = loss_func(output, target)\r\n",
        "    \r\n",
        "    # get performance metric\r\n",
        "    metric_b = metrics_batch(output,target)\r\n",
        "    \r\n",
        "    if opt is not None:\r\n",
        "        opt.zero_grad()\r\n",
        "        loss.backward()\r\n",
        "        opt.step()\r\n",
        "\r\n",
        "    return loss.item(), metric_b"
      ],
      "execution_count": 42,
      "outputs": []
    },
    {
      "cell_type": "code",
      "metadata": {
        "id": "G5nxNpJXyg2S"
      },
      "source": [
        "# a helper function to compute the loss value and the performance metric for the entire dataset or an epoch.\r\n",
        "\r\n",
        "# define device as a global variable\r\n",
        "#device = torch.device(\"cuda\")\r\n",
        "\r\n",
        "def loss_epoch(model,loss_func,dataset_dl,sanity_check=False,opt=None):\r\n",
        "    running_loss=0.0\r\n",
        "    running_metric=0.0\r\n",
        "    len_data=len(dataset_dl.dataset)\r\n",
        "\r\n",
        "    for xb, yb in dataset_dl:\r\n",
        "        # move batch to device\r\n",
        "        xb=xb.to(device)\r\n",
        "        yb=yb.to(device)\r\n",
        "        \r\n",
        "        # get model output\r\n",
        "        output=model(xb)\r\n",
        "        \r\n",
        "        # get loss per batch\r\n",
        "        loss_b,metric_b=loss_batch(loss_func, output, yb, opt)\r\n",
        "        \r\n",
        "        # update running loss\r\n",
        "        running_loss+=loss_b\r\n",
        "        \r\n",
        "        # update running metric\r\n",
        "        if metric_b is not None:\r\n",
        "            running_metric+=metric_b\r\n",
        "\r\n",
        "        # break the loop in case of sanity check\r\n",
        "        if sanity_check is True:\r\n",
        "            break\r\n",
        "    \r\n",
        "    # average loss value\r\n",
        "    loss=running_loss/float(len_data)\r\n",
        "    \r\n",
        "    # average metric value\r\n",
        "    metric=running_metric/float(len_data)\r\n",
        "    \r\n",
        "    return loss, metric"
      ],
      "execution_count": 43,
      "outputs": []
    },
    {
      "cell_type": "code",
      "metadata": {
        "id": "kWRwKOp4ykA8"
      },
      "source": [
        "# a helper function to compute the loss value and the performance metric for the entire dataset or an epoch.\r\n",
        "\r\n",
        "# define device as a global variable\r\n",
        "#device = torch.device(\"cuda\")\r\n",
        "\r\n",
        "def loss_epoch(model,loss_func,dataset_dl,sanity_check=False,opt=None):\r\n",
        "    running_loss=0.0\r\n",
        "    running_metric=0.0\r\n",
        "    len_data=len(dataset_dl.dataset)\r\n",
        "\r\n",
        "    for xb, yb in dataset_dl:\r\n",
        "        # move batch to device\r\n",
        "        xb=xb.to(device)\r\n",
        "        yb=yb.to(device)\r\n",
        "        \r\n",
        "        # get model output\r\n",
        "        output=model(xb)\r\n",
        "        \r\n",
        "        # get loss per batch\r\n",
        "        loss_b,metric_b=loss_batch(loss_func, output, yb, opt)\r\n",
        "        \r\n",
        "        # update running loss\r\n",
        "        running_loss+=loss_b\r\n",
        "        \r\n",
        "        # update running metric\r\n",
        "        if metric_b is not None:\r\n",
        "            running_metric+=metric_b\r\n",
        "\r\n",
        "        # break the loop in case of sanity check\r\n",
        "        if sanity_check is True:\r\n",
        "            break\r\n",
        "    \r\n",
        "    # average loss value\r\n",
        "    loss=running_loss/float(len_data)\r\n",
        "    \r\n",
        "    # average metric value\r\n",
        "    metric=running_metric/float(len_data)\r\n",
        "    \r\n",
        "    return loss, metric"
      ],
      "execution_count": 44,
      "outputs": []
    },
    {
      "cell_type": "code",
      "metadata": {
        "id": "yxcJKLSzypRq"
      },
      "source": [
        "def train_val(model, params):\r\n",
        "    # extract model parameters\r\n",
        "    num_epochs=params[\"num_epochs\"]\r\n",
        "    loss_func=params[\"loss_func\"]\r\n",
        "    opt=params[\"optimizer\"]\r\n",
        "    train_loader=params[\"train_loader\"]\r\n",
        "    valid_loader=params[\"valid_loader\"]\r\n",
        "    sanity_check=params[\"sanity_check\"]\r\n",
        "    lr_scheduler=params[\"lr_scheduler\"]\r\n",
        "    path2weights=params[\"path2weights\"]\r\n",
        "    \r\n",
        "    # history of loss values in each epoch\r\n",
        "    loss_history={\r\n",
        "        \"train\": [],\r\n",
        "        \"val\": [],\r\n",
        "    }\r\n",
        "    \r\n",
        "    # histroy of metric values in each epoch\r\n",
        "    metric_history={\r\n",
        "        \"train\": [],\r\n",
        "        \"val\": [],\r\n",
        "    }\r\n",
        "    \r\n",
        "    # a deep copy of weights for the best performing model\r\n",
        "    best_model_wts = copy.deepcopy(model.state_dict())\r\n",
        "    \r\n",
        "    # initialize best loss to a large value\r\n",
        "    best_loss=float('inf')\r\n",
        "    \r\n",
        "    # main loop\r\n",
        "    for epoch in range(num_epochs):\r\n",
        "        \r\n",
        "        # get current learning rate\r\n",
        "        current_lr=get_lr(opt)\r\n",
        "        print('Epoch {}/{}, current lr={}'.format(epoch, num_epochs - 1, current_lr))\r\n",
        "        \r\n",
        "        # train model on training dataset\r\n",
        "        model.train()\r\n",
        "        train_loss, train_metric=loss_epoch(model,loss_func,train_loader,sanity_check,opt)\r\n",
        "\r\n",
        "        # collect loss and metric for training dataset\r\n",
        "        loss_history[\"train\"].append(train_loss)\r\n",
        "        metric_history[\"train\"].append(train_metric)\r\n",
        "        \r\n",
        "        # evaluate model on validation dataset    \r\n",
        "        model.eval()\r\n",
        "        with torch.no_grad():\r\n",
        "            val_loss, val_metric=loss_epoch(model,loss_func,valid_loader,sanity_check)\r\n",
        "        \r\n",
        "       \r\n",
        "        # store best model\r\n",
        "        if val_loss < best_loss:\r\n",
        "            best_loss = val_loss\r\n",
        "            best_model_wts = copy.deepcopy(model.state_dict())\r\n",
        "            \r\n",
        "            # store weights into a local file\r\n",
        "            torch.save(model.state_dict(), path2weights)\r\n",
        "            print(\"Copied best model weights!\")\r\n",
        "        \r\n",
        "        # collect loss and metric for validation dataset\r\n",
        "        loss_history[\"val\"].append(val_loss)\r\n",
        "        metric_history[\"val\"].append(val_metric)\r\n",
        "        \r\n",
        "        # learning rate schedule\r\n",
        "        lr_scheduler.step()\r\n",
        "\r\n",
        "        print(\"train loss: %.6f, dev loss: %.6f, accuracy: %.2f\" %(train_loss,val_loss,100*val_metric))\r\n",
        "        print(\"-\"*10) \r\n",
        "\r\n",
        "    # load best model weights\r\n",
        "    model.load_state_dict(best_model_wts)\r\n",
        "        \r\n",
        "    return model, loss_history, metric_history"
      ],
      "execution_count": 45,
      "outputs": []
    },
    {
      "cell_type": "code",
      "metadata": {
        "colab": {
          "base_uri": "https://localhost:8080/",
          "height": 0
        },
        "id": "gKE1IsCey0mT",
        "outputId": "24e7eeec-d7f9-433b-b2dd-1c4e6d43a1e5"
      },
      "source": [
        "import copy\r\n",
        "\r\n",
        "loss_func = nn.CrossEntropyLoss(reduction=\"sum\")\r\n",
        "opt = optim.Adam(resnet50_pretrained.parameters(), lr=1e-4)\r\n",
        "lr_scheduler = CosineAnnealingLR(opt,T_max=5,eta_min=1e-6)\r\n",
        "\r\n",
        "params_train={\r\n",
        " \"num_epochs\": 7,\r\n",
        " \"optimizer\": opt,\r\n",
        " \"loss_func\": loss_func,\r\n",
        " \"train_loader\": train_loader,\r\n",
        " \"valid_loader\": valid_loader,\r\n",
        " \"sanity_check\": False,\r\n",
        " \"lr_scheduler\": lr_scheduler,\r\n",
        " \"path2weights\": folder / \"resnet50_pretrained.pt\",\r\n",
        "}\r\n",
        "\r\n",
        "# train and validate the model\r\n",
        "resnet50_pretrained,loss_hist,metric_hist=train_val(resnet50_pretrained,params_train)"
      ],
      "execution_count": 46,
      "outputs": [
        {
          "output_type": "stream",
          "text": [
            "Epoch 0/6, current lr=0.0001\n",
            "Copied best model weights!\n",
            "train loss: 0.832127, dev loss: 0.619107, accuracy: 79.61\n",
            "----------\n",
            "Epoch 1/6, current lr=9.05463412215599e-05\n",
            "Copied best model weights!\n",
            "train loss: 0.534606, dev loss: 0.422210, accuracy: 86.70\n",
            "----------\n",
            "Epoch 2/6, current lr=6.57963412215599e-05\n",
            "Copied best model weights!\n",
            "train loss: 0.391534, dev loss: 0.365473, accuracy: 87.04\n",
            "----------\n",
            "Epoch 3/6, current lr=3.52036587784401e-05\n",
            "Copied best model weights!\n",
            "train loss: 0.269468, dev loss: 0.311023, accuracy: 89.70\n",
            "----------\n",
            "Epoch 4/6, current lr=1.0453658778440105e-05\n",
            "Copied best model weights!\n",
            "train loss: 0.183182, dev loss: 0.253240, accuracy: 91.52\n",
            "----------\n",
            "Epoch 5/6, current lr=1e-06\n",
            "train loss: 0.162407, dev loss: 0.256523, accuracy: 91.86\n",
            "----------\n",
            "Epoch 6/6, current lr=1.0453658778440102e-05\n",
            "train loss: 0.155054, dev loss: 0.253255, accuracy: 91.30\n",
            "----------\n"
          ],
          "name": "stdout"
        }
      ]
    },
    {
      "cell_type": "code",
      "metadata": {
        "colab": {
          "base_uri": "https://localhost:8080/",
          "height": 0
        },
        "id": "XG7GUxTQzNJr",
        "outputId": "db2e9bc0-2973-411a-e167-152fe691b6f8"
      },
      "source": [
        "import torch \r\n",
        "\r\n",
        "# load state_dict into model\r\n",
        "path2weights=folder / \"resnet50_pretrained.pt\"\r\n",
        "resnet50_pretrained.load_state_dict(torch.load(path2weights))"
      ],
      "execution_count": 47,
      "outputs": [
        {
          "output_type": "execute_result",
          "data": {
            "text/plain": [
              "<All keys matched successfully>"
            ]
          },
          "metadata": {
            "tags": []
          },
          "execution_count": 47
        }
      ]
    },
    {
      "cell_type": "code",
      "metadata": {
        "id": "4583gRV50CeL"
      },
      "source": [
        "# set model in evaluation mode\r\n",
        "#resnet50_pretrained.eval();"
      ],
      "execution_count": null,
      "outputs": []
    },
    {
      "cell_type": "code",
      "metadata": {
        "id": "P6pLWUGC0QqT"
      },
      "source": [
        "# move model to cuda/gpu device\r\n",
        "if torch.cuda.is_available():\r\n",
        "    device = torch.device(\"cuda\")\r\n",
        "    resnet50_pretrained=resnet50_pretrained.to(device)"
      ],
      "execution_count": 48,
      "outputs": []
    },
    {
      "cell_type": "code",
      "metadata": {
        "id": "yP8ymvvZvhC8"
      },
      "source": [
        "def get_predictions(imgPath, model):\r\n",
        "    img = Image.open(imgPath).convert('RGB')\r\n",
        "    img = test0_transformer(img)\r\n",
        "    #img = np.expand_dims(img, 0)\r\n",
        "    #img = torch.from_numpy(img)\r\n",
        "    #img = torch.unsqueeze(img, 0)\r\n",
        "    img = img.view(1, 3, 299, 299)\r\n",
        "    \r\n",
        "    model.eval()\r\n",
        "    inputs = Variable(img).to(device)\r\n",
        "    output = model(inputs)\r\n",
        "    _,pred = torch.max(output,dim=1)\r\n",
        "    \r\n",
        "    return pred.cpu().numpy()"
      ],
      "execution_count": 49,
      "outputs": []
    },
    {
      "cell_type": "code",
      "metadata": {
        "id": "S6G9qf3wvngX"
      },
      "source": [
        "path = folder\r\n",
        "path2= folder/'test_data'/'test_combined'\r\n",
        "sampleSubmission = pd.read_csv(folder / 'sample_submission.csv')\r\n",
        "temp = list()\r\n",
        "for i in range(len(sampleSubmission)):\r\n",
        "    imgName = '{}'.format(sampleSubmission.iloc[i, 0])\r\n",
        "    fullName = os.path.join(path2 /imgName)\r\n",
        "    pred = get_predictions(fullName, resnet50_pretrained)\r\n",
        "    temp.append({'file_names': imgName, 'target': pred[0]})\r\n",
        "    \r\n",
        "df = pd.DataFrame(temp)\r\n",
        "df.to_csv(path / 'Group_6_submission.csv', index=False)"
      ],
      "execution_count": 52,
      "outputs": []
    },
    {
      "cell_type": "code",
      "metadata": {
        "id": "dsubY_SALuRW",
        "colab": {
          "base_uri": "https://localhost:8080/",
          "height": 0
        },
        "outputId": "09d27296-8aec-4e67-e140-ff094a524a9f"
      },
      "source": [
        "ls"
      ],
      "execution_count": 51,
      "outputs": [
        {
          "output_type": "stream",
          "text": [
            "\u001b[0m\u001b[01;34mdrive\u001b[0m/  \u001b[01;34msample_data\u001b[0m/\n"
          ],
          "name": "stdout"
        }
      ]
    },
    {
      "cell_type": "code",
      "metadata": {
        "id": "fHl8QFw2Fqsr"
      },
      "source": [
        ""
      ],
      "execution_count": null,
      "outputs": []
    }
  ]
}